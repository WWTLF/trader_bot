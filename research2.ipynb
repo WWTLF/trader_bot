{
 "cells": [
  {
   "cell_type": "code",
   "execution_count": null,
   "metadata": {},
   "outputs": [],
   "source": [
    "from sklearn import tree\n",
    "from sklearn.ensemble import RandomForestClassifier\n",
    "from sklearn.metrics import accuracy_score, classification_report\n",
    "from sklearn.model_selection import GridSearchCV"
   ]
  },
  {
   "cell_type": "code",
   "execution_count": null,
   "metadata": {},
   "outputs": [],
   "source": [
    "def createObjective(input_df: pd.DataFrame) -> float:\n",
    "    def objective(trial):\n",
    "        # Эти параметры мы оптимзируем\n",
    "        params = {\n",
    "            'buy_th': trial.suggest_float(\"buy_th\", 0.1, 0.1),\n",
    "            'sell_th': trial.suggest_float(\"sell_th\", -0.1, -0.1),\n",
    "            'RSI_signal': trial.suggest_float(\"RSI_signal\", -1.0, 1.0),\n",
    "            'EMA_Cross_signal': trial.suggest_float(\"EMA_Cross_signal\", -1.0, 1.0),\n",
    "            'macd_signal':trial.suggest_float(\"macd_signal\", -1.0, 1.0),\n",
    "            'sma_signal':trial.suggest_float(\"sma_signal\", -1.0, 1.0),\n",
    "            'bb_signal': trial.suggest_float(\"bb_signal\", -1.0, 1.0),\n",
    "            'OBV_Signal':trial.suggest_float(\"OBV_Signal\", -1.0, 1.0),\n",
    "            'AD_Signal': trial.suggest_float(\"AD_Signal\", -1.0, 1.0),\n",
    "            'MFI_Signal':trial.suggest_float(\"MFI_Signal\", -1.0, 1.0),\n",
    "            'VO_Signal':trial.suggest_float(\"VO_Signal\", -1.0, 1.0),\n",
    "            'Stochastic_Signal': trial.suggest_float(\"Stochastic_Signal\", -1.0, 1.0),\n",
    "            'CCI_Signal': trial.suggest_float(\"CCI_Signal\", -1.0, 1.0)\n",
    "        }\n",
    "\n",
    "        input_df['Open'] = input_df['open']\n",
    "        input_df['High'] = input_df['high']\n",
    "        input_df['Low'] = input_df['low']\n",
    "        input_df['Close'] = input_df['close']\n",
    "        input_df['Volume'] = input_df['volume']\n",
    "    \n",
    "        input_df['combined_signal'] = input_df['RSI_signal'] * params['RSI_signal']\n",
    "        + input_df['EMA_Cross_signal'] * params['EMA_Cross_signal']\n",
    "        + input_df['macd_signal'] * params['macd_signal']\n",
    "        + input_df['sma_signal'] * params['sma_signal']\n",
    "        + input_df['bb_signal'] * params['bb_signal']\n",
    "        + input_df['OBV_Signal'] * params['OBV_Signal']\n",
    "        + input_df['AD_Signal'] * params['AD_Signal']\n",
    "        + input_df['MFI_Signal'] * params['MFI_Signal']\n",
    "        + input_df['VO_Signal'] * params['VO_Signal']\n",
    "        + input_df['Stochastic_Signal'] * params['Stochastic_Signal']\n",
    "        + input_df['CCI_Signal'] * params['CCI_Signal']\n",
    "        scaler = MinMaxScaler()\n",
    "        input_df['combined_signal'] = scaler.fit_transform(input_df[['combined_signal']])\n",
    "        input_df['Signal'] = 0\n",
    "        input_df.loc[input_df['combined_signal'] > params['buy_th'], 'Signal'] = 1\n",
    "        input_df.loc[input_df['combined_signal'] < params['sell_th'], 'Signal'] = -1\n",
    "        bt = Backtest(input_df, SimpleFollowSignalsStrategy, cash=2*input_df.iloc[0]['close'], commission=.002, exclusive_orders=True)\n",
    "        stats = bt.run()\n",
    "        return stats['Return [%]']\n",
    "    \n",
    "    return objective"
   ]
  },
  {
   "cell_type": "code",
   "execution_count": null,
   "metadata": {},
   "outputs": [],
   "source": [
    "study = optuna.create_study(direction=\"maximize\")\n",
    "study.optimize(createObjective(input_df=signals_df), n_trials=500)\n",
    "print(study.best_trial.params)"
   ]
  },
  {
   "cell_type": "code",
   "execution_count": null,
   "metadata": {},
   "outputs": [],
   "source": [
    "def bulkTest(test_df: pd.DataFrame, signals: list) -> list:\n",
    "    results = {}\n",
    "    for signal_code in signals:\n",
    "        test_df = signals_df.copy()\n",
    "        test_df['Signal'] = 0\n",
    "        test_df.loc[test_df[signal_code] == 1, 'Signal'] = 1\n",
    "        test_df.loc[test_df[signal_code] == -1, 'Signal'] = -1\n",
    "        test_df['Open'] = test_df['open']\n",
    "        test_df['Close'] = test_df['close']\n",
    "        test_df['High'] = test_df['high']\n",
    "        test_df['Low'] = test_df['low']\n",
    "        test_df['volume'] = test_df['volume']\n",
    "        bt = Backtest(test_df, SimpleFollowSignalsStrategy, cash=2*test_df.iloc[0]['close'], commission=.002, exclusive_orders=True)\n",
    "        stats = bt.run()\n",
    "        results[signal_code] = stats['Return [%]']\n",
    "\n",
    "    return results\n",
    "\n"
   ]
  },
  {
   "cell_type": "code",
   "execution_count": null,
   "metadata": {},
   "outputs": [],
   "source": [
    "bulkTest(signals_df, ['RSI_signal', 'EMA_Cross_signal', 'macd_signal', 'sma_signal', 'bb_signal', 'OBV_Signal', 'AD_Signal', 'MFI_Signal', 'VO_Signal','Stochastic_Signal', 'CCI_Signal','train_signal_command','Signal'])"
   ]
  },
  {
   "cell_type": "code",
   "execution_count": null,
   "metadata": {},
   "outputs": [],
   "source": [
    "y_test = y_test.to(cpu)\n",
    "y_train = y_train.to(cpu)\n",
    "# predicted_actions = [action_classes[i] for i in predicted_labels]\n",
    "test_actions = [action_classes[i] for i in torch.argmax(y_test, dim=1).numpy()]\n",
    "train_actions = [action_classes[i] for i in torch.argmax(y_train, dim=1).numpy()]\n",
    "predicted_labels = [action_classes[i] for i in predicted_args]\n",
    "\n",
    "# Визуализация предсказаний\n",
    "plt.figure(figsize=(12, 6))\n",
    "# plt.plot(range(len(y_train)), train_actions, label='Train True Actions', color='cyan')\n",
    "plt.plot(range(0, len(y_test)), test_actions, label='True Actions', color='blue')\n",
    "plt.plot(range(0,   len(y_test)), predicted_labels, label='Predicted Actions', color='red')\n",
    "plt.legend()\n",
    "plt.show()\n",
    "\n",
    "torch.save(model.state_dict(), './models/action_forcast_lstm_model.pth')"
   ]
  }
 ],
 "metadata": {
  "kernelspec": {
   "display_name": ".venv",
   "language": "python",
   "name": "python3"
  },
  "language_info": {
   "name": "python",
   "version": "3.12.3"
  }
 },
 "nbformat": 4,
 "nbformat_minor": 2
}
